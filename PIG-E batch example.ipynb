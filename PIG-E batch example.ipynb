{
 "cells": [
  {
   "cell_type": "markdown",
   "id": "d0b694af-dc33-4278-8b8a-478c62394d82",
   "metadata": {},
   "source": [
    "<div style='background-color:#d100fb; font-size:50px; color:#000000; font-weight:bold;padding:20px'> PIG-E </div>"
   ]
  },
  {
   "cell_type": "markdown",
   "id": "5e4910e8-97c0-42f5-a327-894ed91cf710",
   "metadata": {},
   "source": [
    "<div style='font-size:30px; padding:5px'> Example using batch of materials properties </div>\n",
    "Using Thermo-Calc data calculated for carbides for a material in Speich et al. <br>\n",
    "[Speich, er al., Metall Trans 4, 303–315 (1973). https://doi.org/10.1007/BF02649630] "
   ]
  },
  {
   "cell_type": "markdown",
   "id": "3d759a95-a1ca-471f-867f-2a2ebdd7d68d",
   "metadata": {},
   "source": [
    "<div style='background-color:#ed95ff; font-size:14px; color:#000000; font-weight:bold; padding:5px'> Necessary modules </div>"
   ]
  },
  {
   "cell_type": "code",
   "execution_count": 1,
   "id": "7ffef76e",
   "metadata": {},
   "outputs": [],
   "source": [
    "import numpy as np\n",
    "import pandas as pd\n",
    "import os\n",
    "import sys\n",
    "import shutil\n",
    "import multiprocessing\n",
    "np.seterr(divide='ignore'); # stop printing a runtime that can happen...\n",
    "\n",
    "from PIG_E import *"
   ]
  },
  {
   "cell_type": "code",
   "execution_count": 2,
   "id": "f3112399",
   "metadata": {},
   "outputs": [],
   "source": [
    "#\n",
    "# Get Material Lists - from CrystalProperties\n",
    "#\n",
    "PrecipitateList = GetPrecipitateList()\n",
    "PhaseElements = GetPhaseElements()\n",
    "MatrixPh = GetMatrixPhase()[0]"
   ]
  },
  {
   "cell_type": "code",
   "execution_count": 3,
   "id": "508bd04e",
   "metadata": {},
   "outputs": [],
   "source": [
    "#\n",
    "# Configure path to data files and generate file names\n",
    "#\n",
    "DataPath = os.getcwd()\n",
    "file_nos = np.arange(0,8,1)\n",
    "FileNames = [f'SpeichData_{i}_SYSTEMREDUCED' for i in file_nos] # this is Alloy C in Speich 1973 Met Trans"
   ]
  },
  {
   "cell_type": "code",
   "execution_count": 4,
   "id": "03c56852",
   "metadata": {},
   "outputs": [],
   "source": [
    "#\n",
    "# Example batch calculation for carbides in the first Speich file. All files were precalculated to reduce computation time.\n",
    "#\n",
    "FileName = FileNames[0] \n",
    "File = f'{FileName}.csv'\n",
    "\n",
    "# load inputs into a dataframe\n",
    "SystemIN = pd.read_csv(fr'{DataPath}/Data/{File}', index_col=0)\n",
    "\n",
    "# create dataframe for results\n",
    "OutputEnergyFrame = pd.DataFrame()"
   ]
  },
  {
   "cell_type": "code",
   "execution_count": 5,
   "id": "77b5e8e4-0857-4839-9639-7912c5f7d2d2",
   "metadata": {},
   "outputs": [],
   "source": [
    "#\n",
    "# MATRIX information - from CrystalProperties \n",
    "#\n",
    "PhaseComposition = {elem : SystemIN.loc[MatrixPh][f'at comp {elem}'] for elem in PhaseElements if f'at comp {elem}' in SystemIN.columns}\n",
    "\n",
    "Matrix = CrystalProperties(MatrixPh,                            # crystal structure\n",
    "                              PhaseComposition,                 # composition OF PHASE\n",
    "                              SystemIN.loc[MatrixPh]['T'],      # temperature\n",
    "                              SystemIN.loc[MatrixPh]['VM'])     # molar volume\n",
    "\n",
    "#\n",
    "# runs the find elastic constants and lattice parameter functions\n",
    "# LatticeParameter() must come before ElasticConstants()\n",
    "#\n",
    "Matrix.LatticeParameters()\n",
    "Matrix.ElasticConstants()\n",
    "\n",
    "OutputEnergyFrame.loc[MatrixPh,'a'] = Matrix.a\n",
    "OutputEnergyFrame.loc[MatrixPh,'b'] = Matrix.b\n",
    "OutputEnergyFrame.loc[MatrixPh,'c'] = Matrix.c\n",
    "OutputEnergyFrame.loc[MatrixPh,'Poisson'] = Matrix.Poisson\n",
    "OutputEnergyFrame.loc[MatrixPh,'ShearModulus'] = Matrix.ShearModulus"
   ]
  },
  {
   "cell_type": "code",
   "execution_count": 6,
   "id": "3198657e-85be-47ae-adb2-e8694b78b7c0",
   "metadata": {},
   "outputs": [
    {
     "name": "stdout",
     "output_type": "stream",
     "text": [
      "for M23C6_D84 with Bain the interfacial energy is 0.45037287695065253 J/m2\n",
      "for M23C6_D84 with KurdjumovSachs the interfacial energy is 0.4541056171916075 J/m2\n",
      "for M23C6_D84 with NishiyamaWasserman the interfacial energy is 0.447112140440809 J/m2\n",
      "for M23C6_D84 with Pitsch the interfacial energy is 0.3759948141200957 J/m2\n",
      "for FE4N_LP1 with Bain the interfacial energy is 0.37744798429806287 J/m2\n",
      "for FE4N_LP1 with KurdjumovSachs the interfacial energy is 0.36970913959919743 J/m2\n",
      "for FE4N_LP1 with NishiyamaWasserman the interfacial energy is 0.3776960504606175 J/m2\n",
      "for FE4N_LP1 with Pitsch the interfacial energy is 0.30912988033975775 J/m2\n",
      "for KSI_CARBIDE with KSI_CARBIDE the interfacial energy is 0.31424523358414236 J/m2\n",
      "for M5C2 with Fe5C2 the interfacial energy is 0.910410420492191 J/m2\n",
      "for HCP_A3#2 with Burgers the interfacial energy is 0.4861336089694108 J/m2\n",
      "for HCP_A3#2 with PitschSchrader the interfacial energy is 0.663831943429572 J/m2\n",
      "for M7C3_D101 with Bagaryatski the interfacial energy is 0.7907836981366794 J/m2\n",
      "for M7C3_D101 with Isaichev the interfacial energy is 0.3618149439056161 J/m2\n",
      "for CEMENTITE_D011 with Bagaryatski the interfacial energy is 0.7480077128252107 J/m2\n",
      "for CEMENTITE_D011 with Isaichev the interfacial energy is 0.4764485614565561 J/m2\n",
      "for M3C2_D510 with Bagaryatski the interfacial energy is 0.8505940523615019 J/m2\n",
      "for M3C2_D510 with Isaichev the interfacial energy is 0.5670081666154617 J/m2\n"
     ]
    }
   ],
   "source": [
    "#\n",
    "# Iterating through precipitate phases\n",
    "#\n",
    "\n",
    "for Precipitate in PrecipitateList:\n",
    "    #loop over all potential precipitates from STEEL_Info\n",
    "\n",
    "    # some systems will not have all 12 carbides. Calculations are only run for carbides present in the input file\n",
    "    if Precipitate in SystemIN.index:\n",
    "\n",
    "        #\n",
    "        # Precipitate Information - from CrystalProperties \n",
    "        #\n",
    "        PrecipComposition = {elem : SystemIN.loc[Precipitate][f'at comp {elem}'] for elem in PhaseElements if f'at comp {elem}' in SystemIN.columns}\n",
    "\n",
    "        Precip = CrystalProperties(Precipitate,            # crystal structure\n",
    "                              PrecipComposition,                  # composition OF PHASE\n",
    "                              SystemIN.loc[Precipitate]['T'],    # temperature\n",
    "                              SystemIN.loc[Precipitate]['VM'])   # molar volume\n",
    "\n",
    "        #\n",
    "        # runs the find elastic constants and lattice parameter functions\n",
    "        #\n",
    "        Precip.LatticeParameters()\n",
    "        Precip.ElasticConstants()\n",
    "\n",
    "        #\n",
    "        # Reporting the information to an output dataframe\n",
    "        #\n",
    "        OutputEnergyFrame.loc[Precipitate,'a'] = Precip.a\n",
    "        OutputEnergyFrame.loc[Precipitate,'b'] = Precip.b\n",
    "        OutputEnergyFrame.loc[Precipitate,'c'] = Precip.c\n",
    "        OutputEnergyFrame.loc[Precipitate,'Poisson'] = Precip.Poisson\n",
    "        OutputEnergyFrame.loc[Precipitate,'ShearModulus'] = Precip.ShearModulus\n",
    "\n",
    "        #\n",
    "        # Orientation relationship information (Transformation Matrix and burgers vectors)\n",
    "        #\n",
    "        ORinfo = CrystalInterface(Matrix, Precip)\n",
    "        ORinfo.GetInterfaces()\n",
    "\n",
    "        #\n",
    "        # Interfacial Energy\n",
    "        #\n",
    "        for Interface in ORinfo.FBToA.keys():\n",
    "\n",
    "            #create an interfactial energy solver object\n",
    "            Solution = NonSingularIsotropicBimaterialInterfaceEnergy(Matrix, Precip, Interface, ORinfo)\n",
    "\n",
    "            #calculate elastic interfacial energy\n",
    "            OutputEnergyFrame.loc[Precipitate,Interface] = Solution.InterfaceEnergy\n",
    "\n",
    "            #report the phase, OR, and elastic interfacial energy\n",
    "            print(f\"for {Precipitate} with {Interface} the interfacial energy is {Solution.InterfaceEnergy} J/m2\")\n",
    "\n",
    "SystemOUT = SystemIN.merge(OutputEnergyFrame, how='outer', left_index=True, right_index=True)\n",
    "SystemOUT.to_csv(f'{DataPath}/Data/{FileName}_OUTPUT_new.csv')\n"
   ]
  },
  {
   "cell_type": "markdown",
   "id": "b8ba95fb",
   "metadata": {},
   "source": [
    "Lets look at output file..."
   ]
  },
  {
   "cell_type": "code",
   "execution_count": null,
   "id": "ad377c40",
   "metadata": {},
   "outputs": [],
   "source": [
    "SystemOUT.head()"
   ]
  },
  {
   "cell_type": "markdown",
   "id": "894cfc66-f4c0-4d34-8ebb-68d479f619ce",
   "metadata": {},
   "source": [
    "Now we will load all of the data files from the Speich dataset."
   ]
  },
  {
   "cell_type": "code",
   "execution_count": null,
   "id": "37966865",
   "metadata": {},
   "outputs": [],
   "source": [
    "#\n",
    "# Load all output files from batch calculation\n",
    "#\n",
    "\n",
    "df = {}\n",
    "for i, FileName in enumerate(FileNames):\n",
    "    #loop over all files and merge into a single dataframe\n",
    "    if i == 0:\n",
    "        df = pd.read_csv(fr'{DataPath}/Data/{FileName}_OUTPUT_new.csv', index_col=0)\n",
    "    else:\n",
    "        df = pd.concat([df,pd.read_csv(fr'{DataPath}/Data/{FileName}_OUTPUT_new.csv', index_col=0)])\n",
    "        \n",
    "df.reset_index(inplace=True)\n",
    "df.rename(columns={'index':'Phase'},inplace=True)\n",
    "df.head()\n",
    "          "
   ]
  },
  {
   "cell_type": "code",
   "execution_count": null,
   "id": "e68092d6-fd9d-4ba8-b32a-d939fefb60c0",
   "metadata": {},
   "outputs": [],
   "source": [
    "#\n",
    "# Plot resulting elastic interfacial energy for CEMENTITE_D011\n",
    "#\n",
    "plt.plot(df[df['Phase']=='CEMENTITE_D011']['T'],df[df['Phase']=='CEMENTITE_D011']['Bagaryatski'],\n",
    "         marker='$B$', ms=16, color='darkmagenta', label='Bagaryatski')\n",
    "plt.plot(df[df['Phase']=='CEMENTITE_D011']['T'],df[df['Phase']=='CEMENTITE_D011']['Isaichev'],\n",
    "         marker='$I$', ms=16, color='darkcyan', label='Isaichev')"
   ]
  },
  {
   "cell_type": "markdown",
   "id": "a634c1eb",
   "metadata": {},
   "source": [
    "You can see that the interfacial energy changes both with orientation relationship and temperature. In this case the Isaichev OR results in a more coherent interface. The interfacial energy changes with temperature due the changes in composition, lattice parameters, and elastic constants, as illustrated below."
   ]
  },
  {
   "cell_type": "code",
   "execution_count": null,
   "id": "541de0ae-c09a-4f37-bbf0-9893fb2f337d",
   "metadata": {},
   "outputs": [],
   "source": [
    "#\n",
    "# Plot CEMENTITE_D011 composition as a function temperature\n",
    "#\n",
    "\n",
    "f, ax = plt.subplots()\n",
    "elems = ['Fe', 'C','Co','Cr','Mn','N','Ni','Si']\n",
    "for elem in elems:\n",
    "    ax.plot(df[df['Phase']=='CEMENTITE_D011']['T'],df[df['Phase']=='CEMENTITE_D011'][f'at comp {elem}'],label=elem)\n",
    "\n",
    "ax.set(xlabel='Temperature [K]',ylabel='At. Frac')\n",
    "ax.legend(bbox_to_anchor=(1.05, 1))"
   ]
  },
  {
   "cell_type": "code",
   "execution_count": null,
   "id": "6a749661-4045-4cf7-b441-ad2b1453448e",
   "metadata": {},
   "outputs": [],
   "source": [
    "#\n",
    "# Plot percent change in molar volume for CEMENTITE_D011 and BCC_A2 as a function temperature\n",
    "#\n",
    "\n",
    "f, ax = plt.subplots()\n",
    "ax.plot(df[df['Phase']=='CEMENTITE_D011']['T'],\n",
    "        (df[df['Phase']=='CEMENTITE_D011']['VM']-df[df['Phase']=='CEMENTITE_D011']['VM'].values[0])/df[df['Phase']=='CEMENTITE_D011']['VM'].values[0],\n",
    "        marker='$c$',ms=16,label='Cementite')\n",
    "ax.plot(df[df['Phase']=='BCC_A2']['T'],\n",
    "        (df[df['Phase']=='BCC_A2']['VM']-df[df['Phase']=='BCC_A2']['VM'].values[0])/df[df['Phase']=='BCC_A2']['VM'].values[0],\n",
    "       marker='$f$',ms=16,label='Ferrite')\n",
    "ax.set(xlabel='Temperature [K]',ylabel='Percent Change in VM')\n",
    "ax.legend(bbox_to_anchor=(1.05, 1))"
   ]
  },
  {
   "cell_type": "code",
   "execution_count": null,
   "id": "a77ae215-0bd9-4975-a6bd-8db6eefca855",
   "metadata": {},
   "outputs": [],
   "source": [
    "#\n",
    "# Plot shear modulus for CEMENTITE_D011 and BCC_A2 as a function temperature\n",
    "#\n",
    "\n",
    "f, ax = plt.subplots()\n",
    "ax.plot(df[df['Phase']=='CEMENTITE_D011']['T'],df[df['Phase']=='CEMENTITE_D011']['ShearModulus'],marker='$c$',ms=16,label='Cementite')\n",
    "ax.plot(df[df['Phase']=='BCC_A2']['T'],df[df['Phase']=='BCC_A2']['ShearModulus'],marker='$f$',ms=16,label='Ferrite')\n",
    "ax.set(xlabel='Temperature [K]',ylabel='Shear Modulus (GPa)')\n",
    "ax.legend(bbox_to_anchor=(1.05, 1))"
   ]
  },
  {
   "cell_type": "markdown",
   "id": "19eaa3ab-c996-43db-a660-e4f0280a21cf",
   "metadata": {},
   "source": [
    "The evolution of the elastic interfacial energy can then be examined for all carbides as a functionof temperature."
   ]
  },
  {
   "cell_type": "code",
   "execution_count": null,
   "id": "f16db552-a9a3-4d3e-8caf-a01ef31646c1",
   "metadata": {},
   "outputs": [],
   "source": [
    "#\n",
    "# Plot the minimum elastic interfacial energy for a given carbide\n",
    "#\n",
    "\n",
    "ORdict = GetPrecipitateORs()\n",
    "f, ax = plt.subplots()\n",
    "ax.set(xlabel='Temperature [K]',ylabel='Elastic Interfacial Energy [J/m2]')\n",
    "for Phase in df['Phase'].unique():\n",
    "    if Phase == 'BCC_A2':\n",
    "        continue\n",
    "    ax.plot(df[df['Phase']==Phase]['T'],df[df['Phase']==Phase][ORdict[Phase]].apply(np.min,axis=1),label=f'{Phase}')\n",
    "ax.legend(bbox_to_anchor=(1.05, 1))"
   ]
  },
  {
   "cell_type": "markdown",
   "id": "e98c1bc9-b9cb-47bd-9b91-e7855a6ea960",
   "metadata": {},
   "source": [
    "Finally, the total interfacial energy for each carbide is determined by adding the chemical contribution."
   ]
  },
  {
   "cell_type": "code",
   "execution_count": null,
   "id": "7957ab7b-f7ab-4739-92d4-1da64c4cdfcb",
   "metadata": {},
   "outputs": [],
   "source": [
    "#\n",
    "# Plot the total interfacial energy for a given carbide\n",
    "#\n",
    "\n",
    "f, ax = plt.subplots()\n",
    "ax.set(xlabel='Temperature [K]',ylabel='Total Interfacial Energy [J/m2]')\n",
    "for Phase in df['Phase'].unique():\n",
    "    if Phase == 'BCC_A2':\n",
    "        continue\n",
    "    ax.plot(df[df['Phase']==Phase]['T'],df[df['Phase']==Phase]['InterfaceE_chem']+df[df['Phase']==Phase][ORdict[Phase]].apply(np.min,axis=1),label=f'{Phase}')\n",
    "ax.legend(bbox_to_anchor=(1.05, 1))"
   ]
  },
  {
   "cell_type": "code",
   "execution_count": null,
   "id": "a7808111-d11e-4880-83c6-2b8c9c0a57ab",
   "metadata": {},
   "outputs": [],
   "source": []
  },
  {
   "cell_type": "code",
   "execution_count": null,
   "id": "a9127866-341e-462c-9e43-8eda789d89a1",
   "metadata": {},
   "outputs": [],
   "source": []
  }
 ],
 "metadata": {
  "kernelspec": {
   "display_name": "Python 3 (ipykernel)",
   "language": "python",
   "name": "python3"
  },
  "language_info": {
   "codemirror_mode": {
    "name": "ipython",
    "version": 3
   },
   "file_extension": ".py",
   "mimetype": "text/x-python",
   "name": "python",
   "nbconvert_exporter": "python",
   "pygments_lexer": "ipython3",
   "version": "3.9.18"
  }
 },
 "nbformat": 4,
 "nbformat_minor": 5
}
